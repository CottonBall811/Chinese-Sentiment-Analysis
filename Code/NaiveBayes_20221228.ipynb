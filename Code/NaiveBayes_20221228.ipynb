{
 "cells": [
  {
   "cell_type": "markdown",
   "id": "f1e516ef",
   "metadata": {},
   "source": [
    "# 1. Read Data"
   ]
  },
  {
   "cell_type": "code",
   "execution_count": 1,
   "id": "2302b149",
   "metadata": {
    "scrolled": true
   },
   "outputs": [
    {
     "name": "stderr",
     "output_type": "stream",
     "text": [
      "C:\\Users\\Gao\\anaconda3\\envs\\pytorch\\lib\\site-packages\\openpyxl\\worksheet\\header_footer.py:48: UserWarning: Cannot parse header or footer so it will be ignored\n",
      "  warn(\"\"\"Cannot parse header or footer so it will be ignored\"\"\")\n",
      "C:\\Users\\Gao\\anaconda3\\envs\\pytorch\\lib\\site-packages\\openpyxl\\worksheet\\header_footer.py:48: UserWarning: Cannot parse header or footer so it will be ignored\n",
      "  warn(\"\"\"Cannot parse header or footer so it will be ignored\"\"\")\n"
     ]
    }
   ],
   "source": [
    "import numpy as np\n",
    "import pandas as pd\n",
    "import re\n",
    "data_usual = pd.read_excel('D:\\\\files\\\\Courses\\\\Final Year Project\\\\archive\\\\usual.xlsx')\n",
    "data_train = pd.read_excel('D:\\\\files\\\\Courses\\\\Final Year Project\\\\archive\\\\train.xlsx')\n",
    "# data_train.head()\n",
    "# data_train['emotion'].unique()"
   ]
  },
  {
   "cell_type": "markdown",
   "id": "b3158d86",
   "metadata": {},
   "source": [
    "## 1.2 Get plot"
   ]
  },
  {
   "cell_type": "code",
   "execution_count": 2,
   "id": "1994aa8b",
   "metadata": {},
   "outputs": [],
   "source": [
    "# import pandas as pd\n",
    "# import matplotlib.pyplot as plt\n",
    "# from matplotlib import font_manager\n",
    "# from itertools import accumulate\n",
    "\n",
    "# #  设置matplotlib绘图时的字体\n",
    "# my_font = font_manager.FontProperties(fname='D:\\\\files\\\\Courses\\\\Final Year Project\\\\archive\\\\ARHei.ttf')\n",
    "\n",
    "# #  统计句子长度及出现次数的频数\n",
    "# # df = pd.read_excel('D:\\\\files\\\\Courses\\\\Final Year Project\\\\archive\\\\train.xlsx')\n",
    "# print(data_train.groupby('emotion')['emotion'].count())\n",
    "\n",
    "# print(type(data_train.text))\n",
    "# data_train['length'] = data_train.text.astype(str).apply(len)\n",
    "# # print(df)\n",
    "# len_df = data_train.groupby('length').count()\n",
    "# sent_length = len_df.index.tolist()\n",
    "# sent_freq = len_df['text'].tolist()\n",
    "\n",
    "# #  绘制句子长度及出现频数统计图\n",
    "# plt.bar(sent_length, sent_freq)\n",
    "# plt.title(\"Plot of sentence length and frequency\", fontproperties=my_font)\n",
    "# plt.xlabel(\"Sentence length\", fontproperties=my_font)\n",
    "# plt.ylabel(\"Frequency of sentence length\", fontproperties=my_font)\n",
    "# plt.savefig(\"./Plot of sentence length and frequency.png\")\n",
    "# plt.close()\n",
    "\n",
    "# #  绘制句子长度累计分布函数（CDF）\n",
    "# sent_pentage_list = [(count / sum(sent_freq)) for count in accumulate(sent_freq)]\n",
    "\n",
    "# # 绘制CDF\n",
    "# plt.plot(sent_length, sent_pentage_list)\n",
    "\n",
    "# #  寻找分位点为quantile的句子长度\n",
    "# quantile = 0.91\n",
    "# # print(list(sent_pentage_list))\n",
    "# for length, per in zip(sent_length, sent_pentage_list):\n",
    "#     if round(per, 2) == quantile:\n",
    "#         index = length\n",
    "#         break\n",
    "# print('\\nthe sentence length of %s quantile: %d' % (quantile, index))\n",
    "\n",
    "# # 绘制句子长度累积分布函数图\n",
    "# plt.plot(sent_length, sent_pentage_list)\n",
    "# plt.hlines(quantile, 0, index, colors=\"c\", linestyles=\"dashed\")\n",
    "# plt.vlines(index, 0, quantile, colors=\"c\", linestyles=\"dashed\")\n",
    "# plt.text(0, quantile, str(quantile))\n",
    "# plt.text(index, 0, str(index))\n",
    "# plt.title(\"Plot of sentence length cumulative distribution function\", fontproperties=my_font)\n",
    "# plt.xlabel(\"Sentence length\", fontproperties=my_font)\n",
    "# plt.ylabel(\"Cumulative distribution of sentence length\", fontproperties=my_font)\n",
    "# plt.savefig(\"./Plot of sentence length cumulative distribution function.png\")\n",
    "# plt.close()\n"
   ]
  },
  {
   "cell_type": "code",
   "execution_count": 3,
   "id": "6e9ed8b6",
   "metadata": {},
   "outputs": [],
   "source": [
    "# data_usual['sentiment'] = data_usual.emotion.apply(emotion2sentiment)\n",
    "# d = {'cat':data_usual['emotion'].value_counts().index, 'count': data_usual['sentiment'].value_counts()}\n",
    "# df_cat = pd.DataFrame(data=d).reset_index(drop=True)\n",
    "# print(type(df_cat))\n",
    "# df_cat.plot(x='cat', y='count', kind='bar', legend=False, figsize=(8, 5))\n",
    "# plt.title(\"Emotion Distribution of whole Data Set\")\n",
    "# plt.ylabel('Count', fontsize=18)\n",
    "# plt.xlabel('Emotion', fontsize=18)\n",
    "\n",
    "# plt.savefig(\"./Plot of usual emotion distribution.png\")"
   ]
  },
  {
   "cell_type": "code",
   "execution_count": 4,
   "id": "771600ac",
   "metadata": {},
   "outputs": [],
   "source": [
    "# data_train['sentiment'] = data_train.emotion.apply(emotion2sentiment)\n",
    "# d = {'cat':data_train['emotion'].value_counts().index, 'count': data_train['sentiment'].value_counts()}\n",
    "# df_cat = pd.DataFrame(data=d).reset_index(drop=True)\n",
    "# print(type(df_cat))\n",
    "# df_cat.plot(x='cat', y='count', kind='bar', legend=False, figsize=(8, 5))\n",
    "# plt.title(\"Emotion Distribution of Train Data Set\")\n",
    "# plt.ylabel('Count', fontsize=18)\n",
    "# plt.xlabel('Emotion', fontsize=18)\n",
    "\n",
    "# plt.savefig(\"./Plot of train emotion distribution.png\")"
   ]
  },
  {
   "cell_type": "code",
   "execution_count": 5,
   "id": "488c264d",
   "metadata": {},
   "outputs": [],
   "source": [
    "# data_test['sentiment'] = data_test.emotion.apply(emotion2sentiment)\n",
    "# d = {'cat':data_test['emotion'].value_counts().index, 'count': data_test['sentiment'].value_counts()}\n",
    "# df_cat = pd.DataFrame(data=d).reset_index(drop=True)\n",
    "# print(type(df_cat))\n",
    "# df_cat.plot(x='cat', y='count', kind='bar', legend=False, figsize=(8, 5))\n",
    "# plt.title(\"Emotion Distribution of Test Data Set\")\n",
    "# plt.ylabel('Count', fontsize=18)\n",
    "# plt.xlabel('Emotion', fontsize=18)\n",
    "\n",
    "# plt.savefig(\"./Plot of test emotion distribution.png\")"
   ]
  },
  {
   "cell_type": "markdown",
   "id": "133b665c",
   "metadata": {},
   "source": [
    "# 2. Preprocess"
   ]
  },
  {
   "cell_type": "markdown",
   "id": "fa051031",
   "metadata": {},
   "source": [
    "## 2.1 Label sentiment"
   ]
  },
  {
   "cell_type": "code",
   "execution_count": 6,
   "id": "b58f1f85",
   "metadata": {},
   "outputs": [],
   "source": [
    "def emotion2sentiment(emotion):\n",
    "    if emotion == 'angry':\n",
    "        return 0\n",
    "    elif emotion == 'fear':\n",
    "        return 1\n",
    "    elif emotion == 'sad':\n",
    "        return 2\n",
    "    elif emotion == 'neural':\n",
    "        return 3\n",
    "    elif emotion == 'surprise':\n",
    "        return 4\n",
    "    elif emotion == 'happy':\n",
    "        return 5\n",
    "    \n",
    "def sentiment2emotion(sentiment):\n",
    "    if sentiment == 0:\n",
    "        return \"angry\"\n",
    "    elif sentiment == 1:\n",
    "        return \"fear\"\n",
    "    elif sentiment == 2:\n",
    "        return \"sad\"\n",
    "    elif sentiment == 3:\n",
    "        return \"neural\"\n",
    "    elif sentiment == 4:\n",
    "        return \"surprise\"\n",
    "    elif sentiment == 5:\n",
    "        return \"happy\"\n",
    "    \n",
    "data_train['sentiment'] = data_train.emotion.apply(emotion2sentiment)\n",
    "# print(type(data_train.emotion))\n",
    "# data_train.head()"
   ]
  },
  {
   "cell_type": "markdown",
   "id": "d198df1b",
   "metadata": {},
   "source": [
    "## 2.2 Remove symbol"
   ]
  },
  {
   "cell_type": "code",
   "execution_count": 7,
   "id": "0d543ae5",
   "metadata": {},
   "outputs": [],
   "source": [
    "# def remove_symbol(s_line):\n",
    "#     # 剔除英文、数字，以及空格\n",
    "#     special_regex = re.compile(r\"[a-zA-Z0-9\\s]+\")\n",
    "#     # 剔除英文标点符号和特殊符号\n",
    "#     en_regex = re.compile(r\"[.…{|}#$%&\\'()*+,!-_./:~^;<=>?@★●，。]+\")\n",
    "#     # 剔除中文标点符号\n",
    "#     zn_regex = re.compile(r\"[《》、，“”；～？！：（）【】]+\")\n",
    "\n",
    "#     s_line = special_regex.sub(r\"\", s_line)\n",
    "#     s_line = en_regex.sub(r\"\", s_line)\n",
    "#     s_line = zn_regex.sub(r\"\", s_line)\n",
    "#     return s_line\n",
    "\n",
    "\n",
    "def remove_symbol(line):\n",
    "    line = str(line)\n",
    "    if line.strip()=='':\n",
    "        return ''\n",
    "    rule = re.compile(u\"[^a-zA-Z0-9\\u4E00-\\u9FA5]\")\n",
    "    line = rule.sub('',line)\n",
    "    return line\n",
    "\n",
    "\n",
    "data_train['remove_symbol_text'] = data_train.text.astype(str).apply(remove_symbol)"
   ]
  },
  {
   "cell_type": "markdown",
   "id": "987aa5d0",
   "metadata": {},
   "source": [
    "## 2.3 - 1Cut words by jieba"
   ]
  },
  {
   "cell_type": "code",
   "execution_count": 8,
   "id": "31afc8f2",
   "metadata": {
    "scrolled": false
   },
   "outputs": [],
   "source": [
    "import jieba\n",
    "\n",
    "def chinese_word_cut(mytext):\n",
    "    return \" \".join(jieba.cut(mytext))\n",
    "\n",
    "\n",
    "# data_train.head()"
   ]
  },
  {
   "cell_type": "markdown",
   "id": "4f3fac1c",
   "metadata": {},
   "source": [
    "## 2.3 - 2 Cut words by thulac"
   ]
  },
  {
   "cell_type": "code",
   "execution_count": 9,
   "id": "c27f3551",
   "metadata": {},
   "outputs": [],
   "source": [
    "# import thulac \n",
    "# thu1 = thulac.thulac(seg_only=True)  #默认模式\n",
    "# def chinese_word_cut(mytext):\n",
    "#     text = thu1.cut(mytext, text=True)  #进行一句话分词\n",
    "#     return text\n",
    "# # text = thu1.cut(\"我爱北京天安门\")  #进行一句话分词\n",
    "# # print(text)"
   ]
  },
  {
   "cell_type": "code",
   "execution_count": 10,
   "id": "235ed3ca",
   "metadata": {},
   "outputs": [
    {
     "name": "stderr",
     "output_type": "stream",
     "text": [
      "Building prefix dict from the default dictionary ...\n",
      "Loading model from cache C:\\Users\\Gao\\AppData\\Local\\Temp\\jieba.cache\n",
      "Loading model cost 0.438 seconds.\n",
      "Prefix dict has been built successfully.\n"
     ]
    },
    {
     "name": "stdout",
     "output_type": "stream",
     "text": [
      "Period: 3.2829010486602783\n"
     ]
    }
   ],
   "source": [
    "import time\n",
    "start_time_clock = time.time()\n",
    "data_train['cut_text'] = data_train['remove_symbol_text'].astype(str).apply(chinese_word_cut)\n",
    "end_time_clock = time.time()\n",
    "print(\"Period: \" + (str)(end_time_clock - start_time_clock))\n",
    "# # data_train.head()"
   ]
  },
  {
   "cell_type": "markdown",
   "id": "b0dad89c",
   "metadata": {},
   "source": [
    "## 2.4 Vectorization"
   ]
  },
  {
   "cell_type": "code",
   "execution_count": 11,
   "id": "3078b2cd",
   "metadata": {},
   "outputs": [],
   "source": [
    "# X = data_train['cut_text']\n",
    "# y = data_train.sentiment\n",
    "\n",
    "# from sklearn.model_selection import train_test_split\n",
    "\n",
    "# X_train, X_test, y_train, y_test = train_test_split(X, y, test_size = 0.2, random_state=22)\n",
    "# X_train = data_train['cut_text']\n",
    "# y_train = data_train.sentiment"
   ]
  },
  {
   "cell_type": "code",
   "execution_count": 12,
   "id": "3f92ffa8",
   "metadata": {},
   "outputs": [],
   "source": [
    "from sklearn.feature_extraction.text import CountVectorizer,TfidfVectorizer\n",
    "\n",
    "def get_custom_stopwords(stop_words_file):\n",
    "    with open(stop_words_file) as f:\n",
    "        stopwords = f.read()\n",
    "    stopwords_list = stopwords.split('\\n')\n",
    "    custom_stopwords_list = [i for i in stopwords_list]\n",
    "    return custom_stopwords_list\n",
    "\n",
    "stop_words_file = '哈工大停用词表.txt'\n",
    "stopwords = get_custom_stopwords(stop_words_file)\n",
    "# print(type(stopwords))\n",
    "# vect = CountVectorizer(max_df = 0.8, \n",
    "#                        min_df = 3, \n",
    "#                        token_pattern=u'(?u)\\\\b[^\\\\d\\\\W]\\\\w+\\\\b', \n",
    "#                        stop_words=stopwords)\n",
    "vect = TfidfVectorizer(use_idf=True, smooth_idf=True,max_df = 0.8, \n",
    "                       min_df = 3, \n",
    "                       token_pattern=u'(?u)\\\\b[^\\\\d\\\\W]\\\\w+\\\\b', \n",
    "                       stop_words=stopwords)"
   ]
  },
  {
   "cell_type": "code",
   "execution_count": 13,
   "id": "7e08741b",
   "metadata": {},
   "outputs": [],
   "source": [
    "# test = pd.DataFrame(vect.fit_transform(X_train).toarray(), columns=vect.get_feature_names_out())\n",
    "# test.head()\n",
    "# vect.head()\n",
    "# print(vect)"
   ]
  },
  {
   "cell_type": "markdown",
   "id": "6eaf1433",
   "metadata": {},
   "source": [
    "# 3 Train"
   ]
  },
  {
   "cell_type": "markdown",
   "id": "a66bca61",
   "metadata": {},
   "source": [
    "## 3.1 Naive Bayes"
   ]
  },
  {
   "cell_type": "code",
   "execution_count": 14,
   "id": "b681ed26",
   "metadata": {},
   "outputs": [
    {
     "name": "stderr",
     "output_type": "stream",
     "text": [
      "C:\\Users\\Gao\\anaconda3\\envs\\pytorch\\lib\\site-packages\\sklearn\\feature_extraction\\text.py:409: UserWarning: Your stop_words may be inconsistent with your preprocessing. Tokenizing the stop words generated tokens ['exp', 'lex', '①①', '①②', '①③', '①④', '①⑤', '①⑥', '①⑦', '①⑧', '①⑨', '①ａ', '①ｂ', '①ｃ', '①ｄ', '①ｅ', '①ｆ', '①ｇ', '①ｈ', '①ｉ', '①ｏ', '②①', '②②', '②③', '②④', '②⑤', '②⑥', '②⑦', '②⑧', '②⑩', '②ａ', '②ｂ', '②ｄ', '②ｅ', '②ｆ', '②ｇ', '②ｈ', '②ｉ', '②ｊ', '③①', '③⑩', '③ａ', '③ｂ', '③ｃ', '③ｄ', '③ｅ', '③ｆ', '③ｇ', '③ｈ', '④ａ', '④ｂ', '④ｃ', '④ｄ', '④ｅ', '⑤ａ', '⑤ｂ', '⑤ｄ', '⑤ｅ', '⑤ｆ', 'ｌｉ', 'ｚｘｆｉｔｌ'] not in stop_words.\n",
      "  warnings.warn(\n"
     ]
    },
    {
     "data": {
      "text/html": [
       "<style>#sk-container-id-1 {color: black;background-color: white;}#sk-container-id-1 pre{padding: 0;}#sk-container-id-1 div.sk-toggleable {background-color: white;}#sk-container-id-1 label.sk-toggleable__label {cursor: pointer;display: block;width: 100%;margin-bottom: 0;padding: 0.3em;box-sizing: border-box;text-align: center;}#sk-container-id-1 label.sk-toggleable__label-arrow:before {content: \"▸\";float: left;margin-right: 0.25em;color: #696969;}#sk-container-id-1 label.sk-toggleable__label-arrow:hover:before {color: black;}#sk-container-id-1 div.sk-estimator:hover label.sk-toggleable__label-arrow:before {color: black;}#sk-container-id-1 div.sk-toggleable__content {max-height: 0;max-width: 0;overflow: hidden;text-align: left;background-color: #f0f8ff;}#sk-container-id-1 div.sk-toggleable__content pre {margin: 0.2em;color: black;border-radius: 0.25em;background-color: #f0f8ff;}#sk-container-id-1 input.sk-toggleable__control:checked~div.sk-toggleable__content {max-height: 200px;max-width: 100%;overflow: auto;}#sk-container-id-1 input.sk-toggleable__control:checked~label.sk-toggleable__label-arrow:before {content: \"▾\";}#sk-container-id-1 div.sk-estimator input.sk-toggleable__control:checked~label.sk-toggleable__label {background-color: #d4ebff;}#sk-container-id-1 div.sk-label input.sk-toggleable__control:checked~label.sk-toggleable__label {background-color: #d4ebff;}#sk-container-id-1 input.sk-hidden--visually {border: 0;clip: rect(1px 1px 1px 1px);clip: rect(1px, 1px, 1px, 1px);height: 1px;margin: -1px;overflow: hidden;padding: 0;position: absolute;width: 1px;}#sk-container-id-1 div.sk-estimator {font-family: monospace;background-color: #f0f8ff;border: 1px dotted black;border-radius: 0.25em;box-sizing: border-box;margin-bottom: 0.5em;}#sk-container-id-1 div.sk-estimator:hover {background-color: #d4ebff;}#sk-container-id-1 div.sk-parallel-item::after {content: \"\";width: 100%;border-bottom: 1px solid gray;flex-grow: 1;}#sk-container-id-1 div.sk-label:hover label.sk-toggleable__label {background-color: #d4ebff;}#sk-container-id-1 div.sk-serial::before {content: \"\";position: absolute;border-left: 1px solid gray;box-sizing: border-box;top: 0;bottom: 0;left: 50%;z-index: 0;}#sk-container-id-1 div.sk-serial {display: flex;flex-direction: column;align-items: center;background-color: white;padding-right: 0.2em;padding-left: 0.2em;position: relative;}#sk-container-id-1 div.sk-item {position: relative;z-index: 1;}#sk-container-id-1 div.sk-parallel {display: flex;align-items: stretch;justify-content: center;background-color: white;position: relative;}#sk-container-id-1 div.sk-item::before, #sk-container-id-1 div.sk-parallel-item::before {content: \"\";position: absolute;border-left: 1px solid gray;box-sizing: border-box;top: 0;bottom: 0;left: 50%;z-index: -1;}#sk-container-id-1 div.sk-parallel-item {display: flex;flex-direction: column;z-index: 1;position: relative;background-color: white;}#sk-container-id-1 div.sk-parallel-item:first-child::after {align-self: flex-end;width: 50%;}#sk-container-id-1 div.sk-parallel-item:last-child::after {align-self: flex-start;width: 50%;}#sk-container-id-1 div.sk-parallel-item:only-child::after {width: 0;}#sk-container-id-1 div.sk-dashed-wrapped {border: 1px dashed gray;margin: 0 0.4em 0.5em 0.4em;box-sizing: border-box;padding-bottom: 0.4em;background-color: white;}#sk-container-id-1 div.sk-label label {font-family: monospace;font-weight: bold;display: inline-block;line-height: 1.2em;}#sk-container-id-1 div.sk-label-container {text-align: center;}#sk-container-id-1 div.sk-container {/* jupyter's `normalize.less` sets `[hidden] { display: none; }` but bootstrap.min.css set `[hidden] { display: none !important; }` so we also need the `!important` here to be able to override the default hidden behavior on the sphinx rendered scikit-learn.org. See: https://github.com/scikit-learn/scikit-learn/issues/21755 */display: inline-block !important;position: relative;}#sk-container-id-1 div.sk-text-repr-fallback {display: none;}</style><div id=\"sk-container-id-1\" class=\"sk-top-container\"><div class=\"sk-text-repr-fallback\"><pre>MultinomialNB()</pre><b>In a Jupyter environment, please rerun this cell to show the HTML representation or trust the notebook. <br />On GitHub, the HTML representation is unable to render, please try loading this page with nbviewer.org.</b></div><div class=\"sk-container\" hidden><div class=\"sk-item\"><div class=\"sk-estimator sk-toggleable\"><input class=\"sk-toggleable__control sk-hidden--visually\" id=\"sk-estimator-id-1\" type=\"checkbox\" checked><label for=\"sk-estimator-id-1\" class=\"sk-toggleable__label sk-toggleable__label-arrow\">MultinomialNB</label><div class=\"sk-toggleable__content\"><pre>MultinomialNB()</pre></div></div></div></div></div>"
      ],
      "text/plain": [
       "MultinomialNB()"
      ]
     },
     "execution_count": 14,
     "metadata": {},
     "output_type": "execute_result"
    }
   ],
   "source": [
    "from sklearn.naive_bayes import MultinomialNB\n",
    "nb = MultinomialNB()\n",
    "X_train = data_train['cut_text']\n",
    "y_train = data_train.sentiment\n",
    "X_train_vect = vect.fit_transform(X_train)\n",
    "nb.fit(X_train_vect, y_train)\n",
    "# train_score = nb.score(X_train_vect, y_train)\n",
    "# print(train_score)"
   ]
  },
  {
   "cell_type": "markdown",
   "id": "90aaa27a",
   "metadata": {},
   "source": [
    "## Long Short-Term Memory"
   ]
  },
  {
   "cell_type": "code",
   "execution_count": 15,
   "id": "ab4da026",
   "metadata": {},
   "outputs": [
    {
     "name": "stdout",
     "output_type": "stream",
     "text": [
      "<class 'scipy.sparse._csr.csr_matrix'>\n",
      "(22214, 12371)\n",
      "(22214,)\n",
      "(22214,)\n"
     ]
    }
   ],
   "source": [
    "print(type(X_train_vect))\n",
    "print(X_train_vect.shape)\n",
    "print(y_train.shape)\n",
    "print(X_train.shape)"
   ]
  },
  {
   "cell_type": "markdown",
   "id": "2df5102b",
   "metadata": {},
   "source": [
    "# 4 Test"
   ]
  },
  {
   "cell_type": "code",
   "execution_count": 16,
   "id": "94838e86",
   "metadata": {
    "scrolled": true
   },
   "outputs": [
    {
     "name": "stderr",
     "output_type": "stream",
     "text": [
      "C:\\Users\\Gao\\anaconda3\\envs\\pytorch\\lib\\site-packages\\openpyxl\\worksheet\\header_footer.py:48: UserWarning: Cannot parse header or footer so it will be ignored\n",
      "  warn(\"\"\"Cannot parse header or footer so it will be ignored\"\"\")\n"
     ]
    }
   ],
   "source": [
    "data_test = pd.read_excel('D:\\\\files\\\\Courses\\\\Final Year Project\\\\archive\\\\test.xlsx')\n",
    "data_test['sentiment'] = data_test.emotion.apply(emotion2sentiment)\n",
    "data_test['cut_text'] = data_test.text.astype(str).apply(chinese_word_cut)\n",
    "X_test = data_test['cut_text']\n",
    "y_test = data_test.sentiment\n",
    "X_test_vect = vect.transform(X_test)\n",
    "# print(nb.score(X_test_vect, y_test))\n",
    "nb_result = nb.predict(X_test_vect)\n",
    "data_test['nb_result'] = nb_result\n",
    "# data_test.head(20)"
   ]
  },
  {
   "cell_type": "markdown",
   "id": "9ed703b3",
   "metadata": {},
   "source": [
    "# 5 Evaluation"
   ]
  },
  {
   "cell_type": "code",
   "execution_count": 17,
   "id": "96712096",
   "metadata": {
    "scrolled": true
   },
   "outputs": [
    {
     "name": "stdout",
     "output_type": "stream",
     "text": [
      "              precision    recall  f1-score   support\n",
      "\n",
      "       angry       0.56      0.89      0.69      1692\n",
      "        fear       0.86      0.13      0.22       242\n",
      "         sad       0.51      0.40      0.45       964\n",
      "      neural       0.83      0.68      0.75      1147\n",
      "    surprise       0.93      0.06      0.12       440\n",
      "       happy       0.60      0.62      0.61      1069\n",
      "\n",
      "    accuracy                           0.61      5554\n",
      "   macro avg       0.72      0.46      0.47      5554\n",
      "weighted avg       0.66      0.61      0.58      5554\n",
      "\n"
     ]
    }
   ],
   "source": [
    "# def get_evaluation_matrix(ls):\n",
    "#     eval_matrix = np.zeros((6, 6))\n",
    "#     for m_i in range(len(ls)):\n",
    "#         m_row = ls['sentiment'][m_i]\n",
    "#         m_col = ls['nb_result'][m_i]\n",
    "#         eval_matrix[m_row][m_col] += 1\n",
    "#     return eval_matrix\n",
    "# #     print(eval_matrix_nb) \n",
    "\n",
    "# def get_evaluation(matrix):\n",
    "#     tp = []\n",
    "#     fp = []\n",
    "#     fn = []\n",
    "#     tn = []\n",
    "#     accuracy = []\n",
    "#     precision = []\n",
    "#     recall = []\n",
    "#     f_measure = []\n",
    "#     for m_i in range(6):\n",
    "#         m_tp = matrix[m_i][m_i]\n",
    "#         m_fp = np.sum(matrix, axis=0)[m_i] - matrix[m_i][m_i]\n",
    "#         m_fn = np.sum(matrix, axis=1)[m_i] - matrix[m_i][m_i]\n",
    "#         m_tn = np.sum(matrix) - m_tp - m_fp - m_fn\n",
    "#         m_accuracy = (m_tp + m_tn) / (m_tp + m_fp + m_fn + m_tn)\n",
    "#         m_precision = (m_tp) / (m_tp + m_fp)\n",
    "#         m_recall = m_tp / (m_tp + m_fn)\n",
    "#         m_f_measure = 2 * m_precision * m_recall / (m_precision + m_recall)\n",
    "#         accuracy.append(m_accuracy)\n",
    "#         precision.append(m_precision)\n",
    "#         recall.append(m_recall)\n",
    "#         f_measure.append(m_f_measure)\n",
    "#         print(sentiment2emotion(m_i))\n",
    "#         print(\"m_tp: \" + str(m_tp))\n",
    "#         print(\"m_fp: \" + str(m_fp))\n",
    "#         print(\"m_fn: \" + str(m_fn))\n",
    "#         print(\"m_tn: \" + str(m_tn))\n",
    "#     overall_accuracy = np.trace(matrix) / np.sum(matrix)\n",
    "#     overall_precision = np.sum(precision) / len(precision)\n",
    "#     overall_recall = np.sum(recall) / len(recall)\n",
    "#     overall_f_measure = 2 * overall_precision * overall_recall / (overall_precision + overall_recall)\n",
    "#     return overall_accuracy, overall_precision, overall_recall, overall_f_measure, accuracy, precision, recall, f_measure\n",
    "\n",
    "# eval_matrix_nb = get_evaluation_matrix(data_test)\n",
    "# overall_accuracy_nb, overall_precision_nb, overall_recall_nb, overall_f_measure_nb, accuracy_nb, precision_nb, recall_nb, f_measure_nb = get_evaluation(eval_matrix_nb)\n",
    "# print(\"overall accuracy: \" + str(overall_accuracy_nb))\n",
    "# print(\"overall precision: \" + str(overall_precision_nb))\n",
    "# print(\"overall recall: \" + str(overall_recall_nb))\n",
    "# print(\"overall f_measure: \" + str(overall_f_measure_nb))\n",
    "# for i in range(6):\n",
    "#     emotion_type = sentiment2emotion(i)\n",
    "#     print(emotion_type)\n",
    "#     print(str(accuracy_nb[i]))\n",
    "#     print(str(precision_nb[i]))\n",
    "#     print(str(recall_nb[i]))\n",
    "#     print(str(f_measure_nb[i]))\n",
    "#     print(\"accuracy: \" + str(accuracy_nb[i]))\n",
    "#     print(\"precision: \" + str(precision_nb[i]))\n",
    "#     print(\"recall: \" + str(recall_nb[i]))\n",
    "#     print(\"f_measure: \" + str(f_measure_nb[i]))\n",
    "\n",
    "\n",
    "from  sklearn.metrics import classification_report, accuracy_score, confusion_matrix\n",
    "# print('accuracy %s' % accuracy_score(data_test['nb_result'], data_test['sentiment']))\n",
    "# print(type(range(6)))\n",
    "def print_evaluation_report(X, Y):\n",
    "#     print(type(data_test['sentiment']))\n",
    "#     print(type(data_test['nb_result']))\n",
    "#     tg_names = pd.Series(range(len(data_test.emotion.unique()))).apply(sentiment2emotion)\n",
    "    tg_names = pd.Series(range(len(X.unique()))).apply(sentiment2emotion)\n",
    "    print(classification_report(X, Y, target_names=tg_names))\n",
    "\n",
    "print_evaluation_report(data_test['sentiment'], data_test['nb_result'])"
   ]
  },
  {
   "cell_type": "code",
   "execution_count": 18,
   "id": "5466ab53",
   "metadata": {},
   "outputs": [
    {
     "data": {
      "image/png": "[encoded data removed]",
      "text/plain": [
       "<Figure size 1000x800 with 2 Axes>"
      ]
     },
     "metadata": {},
     "output_type": "display_data"
    }
   ],
   "source": [
    "from sklearn.metrics import accuracy_score, confusion_matrix\n",
    "import matplotlib.pyplot as plt\n",
    "import seaborn as sns\n",
    "\n",
    "#生成混淆矩阵\n",
    "conf_mat = confusion_matrix(y_test, data_test['nb_result'])\n",
    "fig, ax = plt.subplots(figsize=(10,8))\n",
    "ticklabels = pd.Series(range(len(data_test.emotion.unique()))).apply(sentiment2emotion)\n",
    "sns.heatmap(conf_mat, annot=True, fmt='d',\n",
    "            xticklabels=ticklabels, yticklabels=ticklabels)\n",
    "plt.ylabel('Actual result',fontsize=18)\n",
    "plt.xlabel('Predict result',fontsize=18)\n",
    "plt.savefig(\"./Plot of NB result.png\")"
   ]
  },
  {
   "cell_type": "markdown",
   "id": "ae63fc25",
   "metadata": {},
   "source": [
    "# Test"
   ]
  },
  {
   "cell_type": "code",
   "execution_count": 19,
   "id": "470a6cf7",
   "metadata": {},
   "outputs": [],
   "source": [
    "# test_input = input(\"input the sentence:\")\n",
    "# # test_input = \"电影真好看\"\n",
    "# test_cut = chinese_word_cut(remove_symbol(test_input))\n",
    "# # print(type(test_cut))\n",
    "# test_vec = vect.transform([test_cut])\n",
    "# # print(type(test_vec))\n",
    "# res = nb.predict(test_vec)\n",
    "# # print(res)\n",
    "# print(\"The emotion of the sentence is \" + sentiment2emotion(res))"
   ]
  },
  {
   "cell_type": "markdown",
   "id": "008c65ad",
   "metadata": {},
   "source": [
    "# TEMP"
   ]
  },
  {
   "cell_type": "code",
   "execution_count": 20,
   "id": "6981cd1e",
   "metadata": {
    "scrolled": true
   },
   "outputs": [
    {
     "name": "stdout",
     "output_type": "stream",
     "text": [
      "Counter({0: 6652, 3: 4602, 5: 4310, 2: 4026, 4: 1646, 1: 978})\n",
      "Counter({0: 1692, 3: 1147, 5: 1069, 2: 964, 4: 440, 1: 242})\n"
     ]
    }
   ],
   "source": [
    "from collections import Counter\n",
    "arr = Counter(y_train)\n",
    "print(arr)\n",
    "arr = Counter(y_test)\n",
    "print(arr)"
   ]
  },
  {
   "cell_type": "code",
   "execution_count": 21,
   "id": "5de0b166",
   "metadata": {},
   "outputs": [],
   "source": [
    "# np.sum(eval_matrix_nb)"
   ]
  },
  {
   "cell_type": "code",
   "execution_count": 22,
   "id": "05688cb7",
   "metadata": {},
   "outputs": [
    {
     "data": {
      "text/plain": [
       "array(['happy', 'angry', 'sad', ..., 'neural', 'happy', 'happy'],\n",
       "      dtype=object)"
      ]
     },
     "execution_count": 22,
     "metadata": {},
     "output_type": "execute_result"
    }
   ],
   "source": [
    "data_test['emotion'].values"
   ]
  },
  {
   "cell_type": "code",
   "execution_count": 23,
   "id": "1f393bd3",
   "metadata": {},
   "outputs": [],
   "source": [
    "# d = {'cat':data_usual['emotion'].value_counts().index, 'count': data_usual['sentiment'].value_counts()}\n",
    "# df_cat = pd.DataFrame(data=d).reset_index(drop=True)\n",
    "# df_cat"
   ]
  },
  {
   "cell_type": "code",
   "execution_count": 24,
   "id": "2f4db054",
   "metadata": {},
   "outputs": [],
   "source": [
    "# df_cat.plot(x='cat', y='count', kind='bar', legend=False,  figsize=(8, 5))\n",
    "# plt.title(\"Emotion distribution\")\n",
    "# plt.ylabel('Count', fontsize=18)\n",
    "# plt.xlabel('Emotion', fontsize=18)"
   ]
  },
  {
   "cell_type": "code",
   "execution_count": null,
   "id": "a0e69c17",
   "metadata": {},
   "outputs": [],
   "source": []
  }
 ],
 "metadata": {
  "kernelspec": {
   "display_name": "Python 3 (ipykernel)",
   "language": "python",
   "name": "python3"
  },
  "language_info": {
   "codemirror_mode": {
    "name": "ipython",
    "version": 3
   },
   "file_extension": ".py",
   "mimetype": "text/x-python",
   "name": "python",
   "nbconvert_exporter": "python",
   "pygments_lexer": "ipython3",
   "version": "3.9.16"
  }
 },
 "nbformat": 4,
 "nbformat_minor": 5
}
